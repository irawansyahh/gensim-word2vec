{
  "nbformat": 4,
  "nbformat_minor": 0,
  "metadata": {
    "colab": {
      "name": "gensim_word2vec_exp.ipynb",
      "provenance": [],
      "collapsed_sections": []
    },
    "kernelspec": {
      "name": "python3",
      "display_name": "Python 3"
    }
  },
  "cells": [
    {
      "cell_type": "markdown",
      "metadata": {
        "id": "boSoOf_n6tLt"
      },
      "source": [
        "Nama   : Irawansyah\n",
        "\n",
        "Kelas : PEMROSESAN BAHASA ALAMI IF-41-GAB02\n",
        "\n",
        "NIM   : 1301174689"
      ]
    },
    {
      "cell_type": "markdown",
      "metadata": {
        "id": "eeob0dUHym_E"
      },
      "source": [
        "**Tutorial Pekan keempat**\n",
        "\n",
        "Membangun model **word2vec Skip-Gram** dengan library Gensim\n",
        "\n",
        "- mengakses vektor/embedding kata\n",
        "\n",
        "- mendapatkan nilai cosine similarity antar kata\n",
        "\n",
        "- mendapatkan daftar kata dengan similarity tertinggi (N-top similarities)\n",
        "\n",
        "- visualisasi word embedding\n",
        "\n",
        "\n",
        "Sumber: https://radimrehurek.com/gensim/models/word2vec.html"
      ]
    },
    {
      "cell_type": "markdown",
      "metadata": {
        "id": "8ojs56clzXFK"
      },
      "source": [
        "Import library untuk menampilkan pesan log proses"
      ]
    },
    {
      "cell_type": "code",
      "metadata": {
        "id": "TgCKlEObZCLg"
      },
      "source": [
        "import logging\n",
        "logging.basicConfig(format='%(asctime)s : %(levelname)s : %(message)s', level=logging.INFO)\n",
        "import glob\n",
        "import os\n",
        "import numpy as np"
      ],
      "execution_count": null,
      "outputs": []
    },
    {
      "cell_type": "markdown",
      "metadata": {
        "id": "a9NzKKefzfnm"
      },
      "source": [
        "Import library gensim dan package yang dibutuhkan\n",
        "\n",
        "Package datapath tidak digunakan di contoh ini. \n",
        "\n",
        "Jika akan menggunakan contoh data yang sudah ada di Gensim, gunakan package datapath.\n",
        "\n",
        "Class MyCorpus bertujuan untuk memproses data teks yang akan digunakan sebagai sumber data latih membuat model word2vec."
      ]
    },
    {
      "cell_type": "code",
      "metadata": {
        "id": "DULKlGVGggar",
        "outputId": "9a1bff7f-b6cd-4e08-87ac-ea0a4b3d1b0e",
        "colab": {
          "base_uri": "https://localhost:8080/",
          "height": 35
        }
      },
      "source": [
        "from google.colab import drive\n",
        "drive.mount('/content/drive')"
      ],
      "execution_count": null,
      "outputs": [
        {
          "output_type": "stream",
          "text": [
            "Drive already mounted at /content/drive; to attempt to forcibly remount, call drive.mount(\"/content/drive\", force_remount=True).\n"
          ],
          "name": "stdout"
        }
      ]
    },
    {
      "cell_type": "code",
      "metadata": {
        "id": "7KR_INHfe4k0"
      },
      "source": [
        "Path = 'drive/My Drive/Dataset'\n",
        "Dataset = os.path.join(Path)\n",
        "\n",
        "with open(\"Dataset.txt\",\"w+\") as outputfile:\n",
        "    for filename in os.listdir(Dataset):\n",
        "        with open(os.path.join(Dataset,filename),\"r\") as file:\n",
        "            content = file.read()\n",
        "            outputfile.write(content)"
      ],
      "execution_count": null,
      "outputs": []
    },
    {
      "cell_type": "code",
      "metadata": {
        "id": "XFBLvUfTZjYQ",
        "outputId": "a55f621f-0314-4d47-b1eb-20ea1c3aecc6",
        "colab": {
          "base_uri": "https://localhost:8080/",
          "height": 91
        }
      },
      "source": [
        "from gensim.test.utils import datapath\n",
        "from gensim import utils\n",
        "\n",
        "class MyCorpus(object): \n",
        "    \"\"\"An interator that yields sentences (lists of str).\"\"\"\n",
        "\n",
        "    def __iter__(self):\n",
        "        filename = \"Dataset.txt\"\n",
        "        # corpus_path = 'drive/My Drive/test_code_2020/NLP/pekan_4/contoh_teks_w2v_gensim.txt' # sesuaikan dengan path masing-masing\n",
        "        for line in open(filename):\n",
        "            # assume there's one document per line, tokens separated by whitespace\n",
        "            # asumsi 1 dokumen adalah 1 kalimat, dituliskan per baris. Antar token dipisahkan dengan spasi\n",
        "            yield utils.simple_preprocess(line)"
      ],
      "execution_count": null,
      "outputs": [
        {
          "output_type": "stream",
          "text": [
            "2020-10-14 12:57:13,826 : INFO : 'pattern' package not found; tag filters are not available for English\n",
            "2020-10-14 12:57:13,839 : INFO : adding document #0 to Dictionary(0 unique tokens: [])\n",
            "2020-10-14 12:57:13,839 : INFO : built Dictionary(12 unique tokens: ['computer', 'human', 'interface', 'response', 'survey']...) from 9 documents (total 29 corpus positions)\n"
          ],
          "name": "stderr"
        }
      ]
    },
    {
      "cell_type": "markdown",
      "metadata": {
        "id": "p7N4lQI1z-nI"
      },
      "source": [
        "Import package untuk membangun model\n",
        "\n",
        "Panggil fungsi Word2Vec untuk membangun model word2vec, parameter berupa kalimat-kalimat korpus\n",
        "\n",
        "Perhatikan bahwa setting yang digunakan adalah setting default, sepertiL min_count atau jumlah kemunculan kata = 5. Pada eksperimen yang berbeda, sesuaikan setting."
      ]
    },
    {
      "cell_type": "code",
      "metadata": {
        "id": "Uhw1LpJiaPhm",
        "outputId": "c2567f1b-7c3c-42c0-cb64-e0ffea9cb349",
        "colab": {
          "base_uri": "https://localhost:8080/",
          "height": 629
        }
      },
      "source": [
        "import gensim.models\n",
        "\n",
        "sentences = MyCorpus()\n",
        "model = gensim.models.Word2Vec(sentences=sentences,size = 100, min_count=1)"
      ],
      "execution_count": null,
      "outputs": [
        {
          "output_type": "stream",
          "text": [
            "2020-10-14 12:57:13,850 : INFO : collecting all words and their counts\n",
            "2020-10-14 12:57:13,855 : INFO : PROGRESS: at sentence #0, processed 0 words, keeping 0 word types\n",
            "2020-10-14 12:57:13,883 : INFO : collected 3812 word types from a corpus of 24333 raw words and 312 sentences\n",
            "2020-10-14 12:57:13,887 : INFO : Loading a fresh vocabulary\n",
            "2020-10-14 12:57:13,939 : INFO : effective_min_count=1 retains 3812 unique words (100% of original 3812, drops 0)\n",
            "2020-10-14 12:57:13,940 : INFO : effective_min_count=1 leaves 24333 word corpus (100% of original 24333, drops 0)\n",
            "2020-10-14 12:57:13,954 : INFO : deleting the raw counts dictionary of 3812 items\n",
            "2020-10-14 12:57:13,955 : INFO : sample=0.001 downsamples 54 most-common words\n",
            "2020-10-14 12:57:13,956 : INFO : downsampling leaves estimated 20755 word corpus (85.3% of prior 24333)\n",
            "2020-10-14 12:57:13,967 : INFO : estimated required memory for 3812 words and 100 dimensions: 4955600 bytes\n",
            "2020-10-14 12:57:13,969 : INFO : resetting layer weights\n",
            "2020-10-14 12:57:14,693 : INFO : training model with 3 workers on 3812 vocabulary and 100 features, using sg=0 hs=0 sample=0.001 negative=5 window=5\n",
            "2020-10-14 12:57:14,742 : INFO : worker thread finished; awaiting finish of 2 more threads\n",
            "2020-10-14 12:57:14,744 : INFO : worker thread finished; awaiting finish of 1 more threads\n",
            "2020-10-14 12:57:14,753 : INFO : worker thread finished; awaiting finish of 0 more threads\n",
            "2020-10-14 12:57:14,753 : INFO : EPOCH - 1 : training on 24333 raw words (20724 effective words) took 0.1s, 372603 effective words/s\n",
            "2020-10-14 12:57:14,801 : INFO : worker thread finished; awaiting finish of 2 more threads\n",
            "2020-10-14 12:57:14,809 : INFO : worker thread finished; awaiting finish of 1 more threads\n",
            "2020-10-14 12:57:14,813 : INFO : worker thread finished; awaiting finish of 0 more threads\n",
            "2020-10-14 12:57:14,814 : INFO : EPOCH - 2 : training on 24333 raw words (20787 effective words) took 0.1s, 354514 effective words/s\n",
            "2020-10-14 12:57:14,860 : INFO : worker thread finished; awaiting finish of 2 more threads\n",
            "2020-10-14 12:57:14,866 : INFO : worker thread finished; awaiting finish of 1 more threads\n",
            "2020-10-14 12:57:14,867 : INFO : worker thread finished; awaiting finish of 0 more threads\n",
            "2020-10-14 12:57:14,868 : INFO : EPOCH - 3 : training on 24333 raw words (20728 effective words) took 0.0s, 414877 effective words/s\n",
            "2020-10-14 12:57:14,909 : INFO : worker thread finished; awaiting finish of 2 more threads\n",
            "2020-10-14 12:57:14,918 : INFO : worker thread finished; awaiting finish of 1 more threads\n",
            "2020-10-14 12:57:14,922 : INFO : worker thread finished; awaiting finish of 0 more threads\n",
            "2020-10-14 12:57:14,923 : INFO : EPOCH - 4 : training on 24333 raw words (20704 effective words) took 0.1s, 410032 effective words/s\n",
            "2020-10-14 12:57:14,969 : INFO : worker thread finished; awaiting finish of 2 more threads\n",
            "2020-10-14 12:57:14,970 : INFO : worker thread finished; awaiting finish of 1 more threads\n",
            "2020-10-14 12:57:14,982 : INFO : worker thread finished; awaiting finish of 0 more threads\n",
            "2020-10-14 12:57:14,983 : INFO : EPOCH - 5 : training on 24333 raw words (20817 effective words) took 0.1s, 374364 effective words/s\n",
            "2020-10-14 12:57:14,985 : INFO : training on a 121665 raw words (103760 effective words) took 0.3s, 356695 effective words/s\n",
            "2020-10-14 12:57:14,986 : WARNING : under 10 jobs per worker: consider setting a smaller `batch_words' for smoother alpha decay\n"
          ],
          "name": "stderr"
        }
      ]
    },
    {
      "cell_type": "markdown",
      "metadata": {
        "id": "s9-6wOB70dGW"
      },
      "source": [
        "Tes mengakses sebuah vektor, dengan fungsi wv, parameter berupa kata.\n",
        "\n",
        "Coba tes dengan kata-kata yang tidak pernah muncul di korpus, apa yang terjadi?\n",
        "\n",
        "Kemudian berapa panjang embedding-nya? Setting panjang embedding yang digunakan di contoh ini juga setting default."
      ]
    },
    {
      "cell_type": "code",
      "metadata": {
        "id": "nw3kJIh-aWL-",
        "outputId": "e4399f4d-b79e-4383-af97-d0ec4cd067bb",
        "colab": {
          "base_uri": "https://localhost:8080/",
          "height": 323
        }
      },
      "source": [
        "vec_positif = model.wv['covid']\n",
        "print(vec_positif)"
      ],
      "execution_count": null,
      "outputs": [
        {
          "output_type": "stream",
          "text": [
            "[ 0.28922394  0.31365943 -0.45084956  0.15036564 -0.15155439 -0.3200764\n",
            "  0.58655334  0.06447885 -0.5772228   0.16196154 -0.20199992  0.86897516\n",
            " -0.5686483   0.22410831 -0.15071024  0.20845893 -0.51350784  0.6308682\n",
            "  0.2971287  -0.67737806  0.0934433   0.24973103 -0.592605   -0.39623776\n",
            "  0.03372517 -0.04010909 -0.34809873 -0.46496406 -0.21925227 -0.08522454\n",
            "  0.20308742 -0.16323332 -0.03922995 -0.549131    0.1826409  -0.669974\n",
            "  0.2658744  -0.00461986 -0.5255522   0.10039018  0.12185021 -0.22300903\n",
            "  0.09170914  0.5094627  -0.1694563   0.3895452   0.05969986  0.53724945\n",
            "  0.07038725  0.2810959   0.10661396  0.0132287  -0.5016978  -0.33645105\n",
            " -0.2871117  -0.28477994  0.6309997   0.0262686   0.6223264   0.31715554\n",
            " -0.48327747  0.13773248  0.00605237 -0.18371572 -0.20005222  0.07285272\n",
            "  0.12181243  0.03708332  0.76129514  0.7811379   0.11801158  0.35578015\n",
            "  0.13796629 -0.10718533 -0.00824278 -0.17290768 -0.06111373  0.04883865\n",
            " -0.15171938 -0.13768077  0.10689959  0.02378752  0.11877958  0.7867637\n",
            " -0.3399043   0.4743451  -0.5134933   0.01867717 -0.5406575   0.33988017\n",
            "  0.23846084 -0.6211012  -0.45058516 -0.18209127 -0.07521641  0.47604966\n",
            "  0.09365943 -0.18236434  0.14887536  0.2909882 ]\n"
          ],
          "name": "stdout"
        }
      ]
    },
    {
      "cell_type": "code",
      "metadata": {
        "id": "IPpqYFGt43IQ",
        "outputId": "34bcd06e-bb3e-4f82-a00c-0411b6282253",
        "colab": {
          "base_uri": "https://localhost:8080/",
          "height": 35
        }
      },
      "source": [
        "np.shape(vec_positif)"
      ],
      "execution_count": null,
      "outputs": [
        {
          "output_type": "execute_result",
          "data": {
            "text/plain": [
              "(100,)"
            ]
          },
          "metadata": {
            "tags": []
          },
          "execution_count": 7
        }
      ]
    },
    {
      "cell_type": "markdown",
      "metadata": {
        "id": "G_Ir0e4A08be"
      },
      "source": [
        "Periksa 5 kata yang similarity-nya paling tinggi dengan sebuah kata. \n",
        "\n",
        "Perhitungan similarity apa yang digunakan sebagai default di Gensim?"
      ]
    },
    {
      "cell_type": "markdown",
      "metadata": {
        "id": "W25Bt3od_5VI"
      },
      "source": [
        "Tes nilai similarity antar 2 kata"
      ]
    },
    {
      "cell_type": "code",
      "metadata": {
        "id": "amFpH-5VDIIK",
        "outputId": "b1aa75c0-1962-4958-93bf-b0d7ed8ba4fe",
        "colab": {
          "base_uri": "https://localhost:8080/",
          "height": 109
        }
      },
      "source": [
        "print(model.wv.most_similar(positive=['positif'], topn=5))"
      ],
      "execution_count": null,
      "outputs": [
        {
          "output_type": "stream",
          "text": [
            "2020-10-14 12:57:15,012 : INFO : precomputing L2-norms of word weight vectors\n"
          ],
          "name": "stderr"
        },
        {
          "output_type": "stream",
          "text": [
            "[('di', 0.9998716115951538), ('kasus', 0.9998641610145569), ('yang', 0.9998635053634644), ('covid', 0.9998551607131958), ('dari', 0.9998520016670227)]\n"
          ],
          "name": "stdout"
        },
        {
          "output_type": "stream",
          "text": [
            "/usr/local/lib/python3.6/dist-packages/gensim/matutils.py:737: FutureWarning: Conversion of the second argument of issubdtype from `int` to `np.signedinteger` is deprecated. In future, it will be treated as `np.int64 == np.dtype(int).type`.\n",
            "  if np.issubdtype(vec.dtype, np.int):\n"
          ],
          "name": "stderr"
        }
      ]
    },
    {
      "cell_type": "code",
      "metadata": {
        "id": "0f-8tWQmI0TY",
        "outputId": "4f0f8b49-6762-4116-d24d-04b195e6a436",
        "colab": {
          "base_uri": "https://localhost:8080/",
          "height": 91
        }
      },
      "source": [
        "print(model.wv.similarity('pemerintah','corona'))"
      ],
      "execution_count": null,
      "outputs": [
        {
          "output_type": "stream",
          "text": [
            "0.9997932\n"
          ],
          "name": "stdout"
        },
        {
          "output_type": "stream",
          "text": [
            "/usr/local/lib/python3.6/dist-packages/gensim/matutils.py:737: FutureWarning: Conversion of the second argument of issubdtype from `int` to `np.signedinteger` is deprecated. In future, it will be treated as `np.int64 == np.dtype(int).type`.\n",
            "  if np.issubdtype(vec.dtype, np.int):\n"
          ],
          "name": "stderr"
        }
      ]
    },
    {
      "cell_type": "code",
      "metadata": {
        "id": "hq_gGLQbJCYH",
        "outputId": "ce97dd59-823a-4256-cdd4-2441ddca2f31",
        "colab": {
          "base_uri": "https://localhost:8080/",
          "height": 91
        }
      },
      "source": [
        "print(model.wv.similarity('vaksin','corona'))"
      ],
      "execution_count": null,
      "outputs": [
        {
          "output_type": "stream",
          "text": [
            "0.99983054\n"
          ],
          "name": "stdout"
        },
        {
          "output_type": "stream",
          "text": [
            "/usr/local/lib/python3.6/dist-packages/gensim/matutils.py:737: FutureWarning: Conversion of the second argument of issubdtype from `int` to `np.signedinteger` is deprecated. In future, it will be treated as `np.int64 == np.dtype(int).type`.\n",
            "  if np.issubdtype(vec.dtype, np.int):\n"
          ],
          "name": "stderr"
        }
      ]
    },
    {
      "cell_type": "code",
      "metadata": {
        "id": "8P-pOAtXAUgZ",
        "outputId": "f19f540a-e91d-4c25-c50f-162755439038",
        "colab": {
          "base_uri": "https://localhost:8080/",
          "height": 91
        }
      },
      "source": [
        "print(model.wv.similarity('masyarakat','jakarta'))"
      ],
      "execution_count": null,
      "outputs": [
        {
          "output_type": "stream",
          "text": [
            "0.999783\n"
          ],
          "name": "stdout"
        },
        {
          "output_type": "stream",
          "text": [
            "/usr/local/lib/python3.6/dist-packages/gensim/matutils.py:737: FutureWarning: Conversion of the second argument of issubdtype from `int` to `np.signedinteger` is deprecated. In future, it will be treated as `np.int64 == np.dtype(int).type`.\n",
            "  if np.issubdtype(vec.dtype, np.int):\n"
          ],
          "name": "stderr"
        }
      ]
    },
    {
      "cell_type": "code",
      "metadata": {
        "id": "Ln-A25oxb1k2",
        "outputId": "a7f4505e-c36c-43cf-f798-69751ecadd67",
        "colab": {
          "base_uri": "https://localhost:8080/",
          "height": 91
        }
      },
      "source": [
        "print(model.wv.most_similar(positive=['covid'], topn=5))"
      ],
      "execution_count": null,
      "outputs": [
        {
          "output_type": "stream",
          "text": [
            "[('yang', 0.9999521970748901), ('dan', 0.9999505877494812), ('dengan', 0.9999473094940186), ('akan', 0.999931812286377), ('di', 0.9999316930770874)]\n"
          ],
          "name": "stdout"
        },
        {
          "output_type": "stream",
          "text": [
            "/usr/local/lib/python3.6/dist-packages/gensim/matutils.py:737: FutureWarning: Conversion of the second argument of issubdtype from `int` to `np.signedinteger` is deprecated. In future, it will be treated as `np.int64 == np.dtype(int).type`.\n",
            "  if np.issubdtype(vec.dtype, np.int):\n"
          ],
          "name": "stderr"
        }
      ]
    },
    {
      "cell_type": "code",
      "metadata": {
        "id": "H-OkWX-L_BdS",
        "outputId": "6f3fcb88-8d9c-45a7-cb46-b40ad3656827",
        "colab": {
          "base_uri": "https://localhost:8080/",
          "height": 91
        }
      },
      "source": [
        "print(model.wv.most_similar(positive=['jakarta'], topn=5))"
      ],
      "execution_count": null,
      "outputs": [
        {
          "output_type": "stream",
          "text": [
            "/usr/local/lib/python3.6/dist-packages/gensim/matutils.py:737: FutureWarning: Conversion of the second argument of issubdtype from `int` to `np.signedinteger` is deprecated. In future, it will be treated as `np.int64 == np.dtype(int).type`.\n",
            "  if np.issubdtype(vec.dtype, np.int):\n"
          ],
          "name": "stderr"
        },
        {
          "output_type": "stream",
          "text": [
            "[('dan', 0.9998534321784973), ('di', 0.9998509287834167), ('kata', 0.9998445510864258), ('akan', 0.9998432397842407), ('dengan', 0.9998422861099243)]\n"
          ],
          "name": "stdout"
        }
      ]
    },
    {
      "cell_type": "code",
      "metadata": {
        "id": "xrq1KBax_DGi",
        "outputId": "724ed6fb-bc87-4e3f-c1ff-282da641ab97",
        "colab": {
          "base_uri": "https://localhost:8080/",
          "height": 91
        }
      },
      "source": [
        "print(model.wv.most_similar(positive=['pemerintah'], topn=5))"
      ],
      "execution_count": null,
      "outputs": [
        {
          "output_type": "stream",
          "text": [
            "[('di', 0.9999016523361206), ('dan', 0.9999012351036072), ('pada', 0.9999009370803833), ('yang', 0.9998890161514282), ('ke', 0.9998867511749268)]\n"
          ],
          "name": "stdout"
        },
        {
          "output_type": "stream",
          "text": [
            "/usr/local/lib/python3.6/dist-packages/gensim/matutils.py:737: FutureWarning: Conversion of the second argument of issubdtype from `int` to `np.signedinteger` is deprecated. In future, it will be treated as `np.int64 == np.dtype(int).type`.\n",
            "  if np.issubdtype(vec.dtype, np.int):\n"
          ],
          "name": "stderr"
        }
      ]
    },
    {
      "cell_type": "markdown",
      "metadata": {
        "id": "emxnTxdT1QSH"
      },
      "source": [
        "Persiapan visualisasi embeddings, import library yang diperlukan"
      ]
    },
    {
      "cell_type": "code",
      "metadata": {
        "id": "IAvze-pmdAnu"
      },
      "source": [
        "from sklearn.decomposition import IncrementalPCA    # inital reduction\n",
        "from sklearn.manifold import TSNE                   # final reduction\n",
        "import numpy as np                                  # array handling"
      ],
      "execution_count": null,
      "outputs": []
    },
    {
      "cell_type": "markdown",
      "metadata": {
        "id": "et9owRgY1WLK"
      },
      "source": [
        "Fungsi untuk reduksi dimensi, supaya lebih mudah dimengerti.\n",
        "\n",
        "Pada contoh, dimensi vektor direduksi menjadi 2."
      ]
    },
    {
      "cell_type": "code",
      "metadata": {
        "id": "MiCkjma1dB7f"
      },
      "source": [
        "def reduce_dimensions(model):\n",
        "    num_dimensions = 2  # final num dimensions (2D, 3D, etc)\n",
        "\n",
        "    vectors = [] # positions in vector space\n",
        "    labels = [] # keep track of words to label our data again later\n",
        "    for word in model.wv.vocab:\n",
        "        vectors.append(model.wv[word])\n",
        "        labels.append(word)\n",
        "\n",
        "    # convert both lists into numpy vectors for reduction\n",
        "    vectors = np.asarray(vectors)\n",
        "    labels = np.asarray(labels)\n",
        "\n",
        "    # reduce using t-SNE\n",
        "    vectors = np.asarray(vectors)\n",
        "    tsne = TSNE(n_components=num_dimensions, random_state=0)\n",
        "    vectors = tsne.fit_transform(vectors)\n",
        "\n",
        "    x_vals = [v[0] for v in vectors]\n",
        "    y_vals = [v[1] for v in vectors]\n",
        "    return x_vals, y_vals, labels\n"
      ],
      "execution_count": null,
      "outputs": []
    },
    {
      "cell_type": "markdown",
      "metadata": {
        "id": "DvB130tn1fz1"
      },
      "source": [
        "Lakukan proses reduksi dimensi"
      ]
    },
    {
      "cell_type": "code",
      "metadata": {
        "id": "lpNae240dGoO"
      },
      "source": [
        "x_vals, y_vals, labels = reduce_dimensions(model)"
      ],
      "execution_count": null,
      "outputs": []
    },
    {
      "cell_type": "markdown",
      "metadata": {
        "id": "4mWETW1T1nVe"
      },
      "source": [
        "Coba tampilkan dengan plotly. Image akan disimpan sebagai file .html.\n",
        "\n",
        "Perhatikan path penyimpanan file, sesuaikan dengan komputer/drive masing-masing."
      ]
    },
    {
      "cell_type": "code",
      "metadata": {
        "id": "N4pXhRqudKsQ"
      },
      "source": [
        "def plot_with_plotly(x_vals, y_vals, labels):\n",
        "    from plotly.offline import init_notebook_mode, iplot, plot\n",
        "    import plotly.graph_objs as go\n",
        "\n",
        "    trace = go.Scatter(x=x_vals, y=y_vals, mode='text', text=labels)\n",
        "    data = [trace]\n",
        "    \n",
        "    plot(data, filename='drive/My Drive/Colab Notebooks/Dataset/word-embedding-plot.html')\n"
      ],
      "execution_count": null,
      "outputs": []
    },
    {
      "cell_type": "code",
      "metadata": {
        "id": "WOVhNpgDvb9J"
      },
      "source": [
        "plot_with_plotly(x_vals,y_vals,labels)"
      ],
      "execution_count": null,
      "outputs": []
    },
    {
      "cell_type": "markdown",
      "metadata": {
        "id": "4THSLh4G12Rm"
      },
      "source": [
        "Fungsi untuk visualisasi dengan matplotlib"
      ]
    },
    {
      "cell_type": "code",
      "metadata": {
        "id": "kQHzoEC9dPd3"
      },
      "source": [
        "def plot_with_matplotlib(x_vals, y_vals, labels):\n",
        "    import matplotlib.pyplot as plt\n",
        "    import random\n",
        "\n",
        "    random.seed(0)\n",
        "\n",
        "    plt.figure(figsize=(12, 12))\n",
        "    plt.scatter(x_vals, y_vals)\n",
        "\n",
        "    #\n",
        "    # Label randomly subsampled 25 data points\n",
        "    #\n",
        "    indices = list(range(len(labels)))\n",
        "    selected_indices = random.sample(indices, 25)\n",
        "    for i in selected_indices:\n",
        "        plt.annotate(labels[i], (x_vals[i], y_vals[i]))\n"
      ],
      "execution_count": null,
      "outputs": []
    },
    {
      "cell_type": "markdown",
      "metadata": {
        "id": "wUHDs83l17V4"
      },
      "source": [
        "Tes plot dengan matplotlib"
      ]
    },
    {
      "cell_type": "code",
      "metadata": {
        "id": "ofEU-2G0di6w",
        "outputId": "ac8f45c8-27c6-42f1-b2de-a4b85fca9dd7",
        "colab": {
          "base_uri": "https://localhost:8080/",
          "height": 734
        }
      },
      "source": [
        "import matplotlib.pyplot as plt\n",
        "plot_with_matplotlib(x_vals, y_vals, labels)\n",
        "plt.title(\"Min_count = 1\")"
      ],
      "execution_count": null,
      "outputs": [
        {
          "output_type": "execute_result",
          "data": {
            "text/plain": [
              "Text(0.5, 1.0, 'Min_count = 1')"
            ]
          },
          "metadata": {
            "tags": []
          },
          "execution_count": 21
        },
        {
          "output_type": "display_data",
          "data": {
            "image/png": "[encoded data removed]",
            "text/plain": [
              "<Figure size 864x864 with 1 Axes>"
            ]
          },
          "metadata": {
            "tags": [],
            "needs_background": "light"
          }
        }
      ]
    },
    {
      "cell_type": "markdown",
      "metadata": {
        "id": "s_7P8ZPTT_QM"
      },
      "source": [
        "# Model 2 dimana min_count = 5"
      ]
    },
    {
      "cell_type": "markdown",
      "metadata": {
        "id": "3-s2JkdZTjps"
      },
      "source": [
        "Import package untuk membangun model\n",
        "\n",
        "Panggil fungsi Word2Vec untuk membangun model word2vec, parameter berupa kalimat-kalimat korpus\n",
        "\n",
        "Perhatikan bahwa setting yang digunakan adalah setting default, sepertiL min_count atau jumlah kemunculan kata = 5. Pada eksperimen yang berbeda, sesuaikan setting."
      ]
    },
    {
      "cell_type": "code",
      "metadata": {
        "id": "1ldMY9-eSzF_",
        "outputId": "d2620ebd-47c9-4bf5-9644-2768002339f2",
        "colab": {
          "base_uri": "https://localhost:8080/",
          "height": 629
        }
      },
      "source": [
        "import gensim.models\n",
        "\n",
        "sentences = MyCorpus()\n",
        "model = gensim.models.Word2Vec(sentences=sentences,size = 100, min_count=5)"
      ],
      "execution_count": 22,
      "outputs": [
        {
          "output_type": "stream",
          "text": [
            "2020-10-14 13:28:04,675 : INFO : collecting all words and their counts\n",
            "2020-10-14 13:28:04,677 : INFO : PROGRESS: at sentence #0, processed 0 words, keeping 0 word types\n",
            "2020-10-14 13:28:04,713 : INFO : collected 3812 word types from a corpus of 24333 raw words and 312 sentences\n",
            "2020-10-14 13:28:04,714 : INFO : Loading a fresh vocabulary\n",
            "2020-10-14 13:28:04,720 : INFO : effective_min_count=5 retains 899 unique words (23% of original 3812, drops 2913)\n",
            "2020-10-14 13:28:04,720 : INFO : effective_min_count=5 leaves 19507 word corpus (80% of original 24333, drops 4826)\n",
            "2020-10-14 13:28:04,729 : INFO : deleting the raw counts dictionary of 3812 items\n",
            "2020-10-14 13:28:04,729 : INFO : sample=0.001 downsamples 67 most-common words\n",
            "2020-10-14 13:28:04,730 : INFO : downsampling leaves estimated 15295 word corpus (78.4% of prior 19507)\n",
            "2020-10-14 13:28:04,733 : INFO : estimated required memory for 899 words and 100 dimensions: 1168700 bytes\n",
            "2020-10-14 13:28:04,733 : INFO : resetting layer weights\n",
            "2020-10-14 13:28:04,907 : INFO : training model with 3 workers on 899 vocabulary and 100 features, using sg=0 hs=0 sample=0.001 negative=5 window=5\n",
            "2020-10-14 13:28:04,947 : INFO : worker thread finished; awaiting finish of 2 more threads\n",
            "2020-10-14 13:28:04,953 : INFO : worker thread finished; awaiting finish of 1 more threads\n",
            "2020-10-14 13:28:04,961 : INFO : worker thread finished; awaiting finish of 0 more threads\n",
            "2020-10-14 13:28:04,961 : INFO : EPOCH - 1 : training on 24333 raw words (15214 effective words) took 0.0s, 305678 effective words/s\n",
            "2020-10-14 13:28:05,001 : INFO : worker thread finished; awaiting finish of 2 more threads\n",
            "2020-10-14 13:28:05,006 : INFO : worker thread finished; awaiting finish of 1 more threads\n",
            "2020-10-14 13:28:05,015 : INFO : worker thread finished; awaiting finish of 0 more threads\n",
            "2020-10-14 13:28:05,015 : INFO : EPOCH - 2 : training on 24333 raw words (15344 effective words) took 0.0s, 318131 effective words/s\n",
            "2020-10-14 13:28:05,058 : INFO : worker thread finished; awaiting finish of 2 more threads\n",
            "2020-10-14 13:28:05,067 : INFO : worker thread finished; awaiting finish of 1 more threads\n",
            "2020-10-14 13:28:05,068 : INFO : worker thread finished; awaiting finish of 0 more threads\n",
            "2020-10-14 13:28:05,069 : INFO : EPOCH - 3 : training on 24333 raw words (15317 effective words) took 0.0s, 317877 effective words/s\n",
            "2020-10-14 13:28:05,114 : INFO : worker thread finished; awaiting finish of 2 more threads\n",
            "2020-10-14 13:28:05,116 : INFO : worker thread finished; awaiting finish of 1 more threads\n",
            "2020-10-14 13:28:05,122 : INFO : worker thread finished; awaiting finish of 0 more threads\n",
            "2020-10-14 13:28:05,122 : INFO : EPOCH - 4 : training on 24333 raw words (15326 effective words) took 0.0s, 312432 effective words/s\n",
            "2020-10-14 13:28:05,169 : INFO : worker thread finished; awaiting finish of 2 more threads\n",
            "2020-10-14 13:28:05,170 : INFO : worker thread finished; awaiting finish of 1 more threads\n",
            "2020-10-14 13:28:05,173 : INFO : worker thread finished; awaiting finish of 0 more threads\n",
            "2020-10-14 13:28:05,174 : INFO : EPOCH - 5 : training on 24333 raw words (15240 effective words) took 0.0s, 331430 effective words/s\n",
            "2020-10-14 13:28:05,175 : INFO : training on a 121665 raw words (76441 effective words) took 0.3s, 285411 effective words/s\n",
            "2020-10-14 13:28:05,176 : WARNING : under 10 jobs per worker: consider setting a smaller `batch_words' for smoother alpha decay\n"
          ],
          "name": "stderr"
        }
      ]
    },
    {
      "cell_type": "markdown",
      "metadata": {
        "id": "BLO43ZasTu4O"
      },
      "source": [
        "Tes mengakses sebuah vektor, dengan fungsi wv, parameter berupa kata.\n",
        "\n",
        "Coba tes dengan kata-kata yang tidak pernah muncul di korpus, apa yang terjadi?\n",
        "\n",
        "Kemudian berapa panjang embedding-nya? Setting panjang embedding yang digunakan di contoh ini juga setting default."
      ]
    },
    {
      "cell_type": "code",
      "metadata": {
        "id": "QDjDsl7gS_gN",
        "outputId": "fad56957-9c0a-4dda-cb02-fc55cd4739e5",
        "colab": {
          "base_uri": "https://localhost:8080/",
          "height": 323
        }
      },
      "source": [
        "vec_positif = model.wv['covid']\n",
        "print(vec_positif)"
      ],
      "execution_count": 23,
      "outputs": [
        {
          "output_type": "stream",
          "text": [
            "[ 0.35276854  0.28298452 -0.48434106  0.20892495 -0.08275152 -0.51659137\n",
            "  0.5495379   0.04600057 -0.9030283   0.263558   -0.16316102  1.2187335\n",
            " -0.67125636  0.03081998 -0.1683466   0.10639236 -0.62544584  0.7386577\n",
            "  0.36899188 -0.53658295  0.07768735  0.32070884 -0.58006316 -0.44428518\n",
            "  0.22070138 -0.08169428 -0.40921476 -0.58205694 -0.34174064 -0.26027617\n",
            "  0.06529167 -0.44196263  0.03659781 -0.63192016  0.17569384 -0.77974784\n",
            "  0.25427294  0.20746177 -0.5014332   0.04405181  0.05814064 -0.34767535\n",
            "  0.13279924  0.5230738  -0.24471463  0.47055876 -0.03442214  0.87062186\n",
            " -0.18592583  0.07998727  0.2648435   0.13162348 -0.57263315 -0.49423268\n",
            " -0.31795162 -0.17445585  0.8001803  -0.14122763  0.48523104  0.3291617\n",
            " -0.72325754  0.05060219  0.34463784 -0.11068175 -0.3578359   0.05756868\n",
            "  0.18872626  0.13669431  0.8671354   0.8354314   0.19900392  0.31357726\n",
            "  0.30316603 -0.1131751  -0.02332059  0.23904848 -0.04977218  0.03137538\n",
            " -0.5032374   0.09483157  0.29900625  0.06944838 -0.08434725  0.5731952\n",
            " -0.2739774   0.36629736 -0.9495105   0.3790426  -0.6206464   0.1812207\n",
            "  0.20094869 -0.7154701  -0.5788972   0.251251   -0.15352759  0.501799\n",
            " -0.00680109 -0.14573407 -0.08576518  0.50211656]\n"
          ],
          "name": "stdout"
        }
      ]
    },
    {
      "cell_type": "code",
      "metadata": {
        "id": "hzld0SSLTG45",
        "outputId": "3d5fd6aa-a738-4cc2-9472-698b0beb01c0",
        "colab": {
          "base_uri": "https://localhost:8080/",
          "height": 35
        }
      },
      "source": [
        "np.shape(vec_positif)"
      ],
      "execution_count": 24,
      "outputs": [
        {
          "output_type": "execute_result",
          "data": {
            "text/plain": [
              "(100,)"
            ]
          },
          "metadata": {
            "tags": []
          },
          "execution_count": 24
        }
      ]
    },
    {
      "cell_type": "markdown",
      "metadata": {
        "id": "o3LI10LBTxfP"
      },
      "source": [
        "Periksa 5 kata yang similarity-nya paling tinggi dengan sebuah kata.\n",
        "\n",
        "Perhitungan similarity apa yang digunakan sebagai default di Gensim?"
      ]
    },
    {
      "cell_type": "code",
      "metadata": {
        "id": "vA5NfCTtTG79",
        "outputId": "b5319ca4-1db1-4253-b7a3-1640f29320fb",
        "colab": {
          "base_uri": "https://localhost:8080/",
          "height": 145
        }
      },
      "source": [
        "print(model.wv.most_similar(positive=['positif'], topn=5))"
      ],
      "execution_count": 25,
      "outputs": [
        {
          "output_type": "stream",
          "text": [
            "2020-10-14 13:29:18,092 : INFO : precomputing L2-norms of word weight vectors\n"
          ],
          "name": "stderr"
        },
        {
          "output_type": "stream",
          "text": [
            "[('di', 0.9999184608459473), ('hingga', 0.9999099373817444), ('kasus', 0.9999080896377563), ('covid', 0.9999067783355713), ('yang', 0.9999057650566101)]\n"
          ],
          "name": "stdout"
        },
        {
          "output_type": "stream",
          "text": [
            "/usr/local/lib/python3.6/dist-packages/gensim/matutils.py:737: FutureWarning:\n",
            "\n",
            "Conversion of the second argument of issubdtype from `int` to `np.signedinteger` is deprecated. In future, it will be treated as `np.int64 == np.dtype(int).type`.\n",
            "\n"
          ],
          "name": "stderr"
        }
      ]
    },
    {
      "cell_type": "markdown",
      "metadata": {
        "id": "2ffZnqcdT5SJ"
      },
      "source": [
        "Tes nilai similarity antar 2 kata"
      ]
    },
    {
      "cell_type": "code",
      "metadata": {
        "id": "mHrWmLp4THE3",
        "outputId": "e3e16301-7997-4921-e8f7-cc8fa1f8f722",
        "colab": {
          "base_uri": "https://localhost:8080/",
          "height": 127
        }
      },
      "source": [
        "print(model.wv.similarity('pemerintah','corona'))"
      ],
      "execution_count": 26,
      "outputs": [
        {
          "output_type": "stream",
          "text": [
            "0.99987453\n"
          ],
          "name": "stdout"
        },
        {
          "output_type": "stream",
          "text": [
            "/usr/local/lib/python3.6/dist-packages/gensim/matutils.py:737: FutureWarning:\n",
            "\n",
            "Conversion of the second argument of issubdtype from `int` to `np.signedinteger` is deprecated. In future, it will be treated as `np.int64 == np.dtype(int).type`.\n",
            "\n"
          ],
          "name": "stderr"
        }
      ]
    },
    {
      "cell_type": "code",
      "metadata": {
        "id": "4-vZks5eTHKH",
        "outputId": "38b24f94-35fb-456f-d590-58da40e8ef67",
        "colab": {
          "base_uri": "https://localhost:8080/",
          "height": 127
        }
      },
      "source": [
        "print(model.wv.similarity('vaksin','corona'))"
      ],
      "execution_count": 27,
      "outputs": [
        {
          "output_type": "stream",
          "text": [
            "0.9998971\n"
          ],
          "name": "stdout"
        },
        {
          "output_type": "stream",
          "text": [
            "/usr/local/lib/python3.6/dist-packages/gensim/matutils.py:737: FutureWarning:\n",
            "\n",
            "Conversion of the second argument of issubdtype from `int` to `np.signedinteger` is deprecated. In future, it will be treated as `np.int64 == np.dtype(int).type`.\n",
            "\n"
          ],
          "name": "stderr"
        }
      ]
    },
    {
      "cell_type": "code",
      "metadata": {
        "id": "ZapIE6x9THV2",
        "outputId": "9fe30d43-ec73-4d7d-ed0b-4009027f9dc4",
        "colab": {
          "base_uri": "https://localhost:8080/",
          "height": 127
        }
      },
      "source": [
        "print(model.wv.similarity('masyarakat','jakarta'))"
      ],
      "execution_count": 28,
      "outputs": [
        {
          "output_type": "stream",
          "text": [
            "0.9998871\n"
          ],
          "name": "stdout"
        },
        {
          "output_type": "stream",
          "text": [
            "/usr/local/lib/python3.6/dist-packages/gensim/matutils.py:737: FutureWarning:\n",
            "\n",
            "Conversion of the second argument of issubdtype from `int` to `np.signedinteger` is deprecated. In future, it will be treated as `np.int64 == np.dtype(int).type`.\n",
            "\n"
          ],
          "name": "stderr"
        }
      ]
    },
    {
      "cell_type": "code",
      "metadata": {
        "id": "pga1sQ0pTHUc",
        "outputId": "0a6dea81-b05b-4ce0-9755-ebd57cef4c0a",
        "colab": {
          "base_uri": "https://localhost:8080/",
          "height": 127
        }
      },
      "source": [
        "print(model.wv.most_similar(positive=['covid'], topn=5))"
      ],
      "execution_count": 29,
      "outputs": [
        {
          "output_type": "stream",
          "text": [
            "[('yang', 0.9999622106552124), ('dengan', 0.9999610185623169), ('dan', 0.9999597668647766), ('akan', 0.9999531507492065), ('tidak', 0.9999496936798096)]\n"
          ],
          "name": "stdout"
        },
        {
          "output_type": "stream",
          "text": [
            "/usr/local/lib/python3.6/dist-packages/gensim/matutils.py:737: FutureWarning:\n",
            "\n",
            "Conversion of the second argument of issubdtype from `int` to `np.signedinteger` is deprecated. In future, it will be treated as `np.int64 == np.dtype(int).type`.\n",
            "\n"
          ],
          "name": "stderr"
        }
      ]
    },
    {
      "cell_type": "code",
      "metadata": {
        "id": "_jidqsarTHQi",
        "outputId": "13dc0f18-e03f-4fb8-d239-b39fd08d2a67",
        "colab": {
          "base_uri": "https://localhost:8080/",
          "height": 127
        }
      },
      "source": [
        "print(model.wv.most_similar(positive=['jakarta'], topn=5))"
      ],
      "execution_count": 30,
      "outputs": [
        {
          "output_type": "stream",
          "text": [
            "[('dan', 0.9999205470085144), ('di', 0.9999187588691711), ('akan', 0.9999154806137085), ('kata', 0.9999152421951294), ('melakukan', 0.9999145269393921)]\n"
          ],
          "name": "stdout"
        },
        {
          "output_type": "stream",
          "text": [
            "/usr/local/lib/python3.6/dist-packages/gensim/matutils.py:737: FutureWarning:\n",
            "\n",
            "Conversion of the second argument of issubdtype from `int` to `np.signedinteger` is deprecated. In future, it will be treated as `np.int64 == np.dtype(int).type`.\n",
            "\n"
          ],
          "name": "stderr"
        }
      ]
    },
    {
      "cell_type": "code",
      "metadata": {
        "id": "UEBle_H_THHr",
        "outputId": "178c0c33-5a6d-44a1-e028-73e72f20e467",
        "colab": {
          "base_uri": "https://localhost:8080/",
          "height": 127
        }
      },
      "source": [
        "print(model.wv.most_similar(positive=['pemerintah'], topn=5))"
      ],
      "execution_count": 31,
      "outputs": [
        {
          "output_type": "stream",
          "text": [
            "[('pada', 0.9999227523803711), ('dan', 0.9999213814735413), ('di', 0.9999204277992249), ('dengan', 0.9999160170555115), ('dalam', 0.9999129176139832)]\n"
          ],
          "name": "stdout"
        },
        {
          "output_type": "stream",
          "text": [
            "/usr/local/lib/python3.6/dist-packages/gensim/matutils.py:737: FutureWarning:\n",
            "\n",
            "Conversion of the second argument of issubdtype from `int` to `np.signedinteger` is deprecated. In future, it will be treated as `np.int64 == np.dtype(int).type`.\n",
            "\n"
          ],
          "name": "stderr"
        }
      ]
    },
    {
      "cell_type": "markdown",
      "metadata": {
        "id": "2Ctv4C4ZU5YI"
      },
      "source": [
        "Lakukan proses reduksi dimensi"
      ]
    },
    {
      "cell_type": "code",
      "metadata": {
        "id": "7X9JlM2MTHCz"
      },
      "source": [
        "x_vals, y_vals, labels = reduce_dimensions(model)"
      ],
      "execution_count": 32,
      "outputs": []
    },
    {
      "cell_type": "code",
      "metadata": {
        "id": "F5Azx-yNUXkR"
      },
      "source": [
        "plot_with_plotly(x_vals,y_vals,labels)"
      ],
      "execution_count": 33,
      "outputs": []
    },
    {
      "cell_type": "markdown",
      "metadata": {
        "id": "x-cv5Ub7U8tA"
      },
      "source": [
        "Tes plot dengan matplotlib"
      ]
    },
    {
      "cell_type": "code",
      "metadata": {
        "id": "qo8ndXA1THBZ",
        "outputId": "59440a86-dcb3-4597-ace6-310ae585ba07",
        "colab": {
          "base_uri": "https://localhost:8080/",
          "height": 734
        }
      },
      "source": [
        "import matplotlib.pyplot as plt\n",
        "plot_with_matplotlib(x_vals, y_vals, labels)\n",
        "plt.title(\"Min_count = 5\")"
      ],
      "execution_count": 35,
      "outputs": [
        {
          "output_type": "execute_result",
          "data": {
            "text/plain": [
              "Text(0.5, 1.0, 'Min_count = 5')"
            ]
          },
          "metadata": {
            "tags": []
          },
          "execution_count": 35
        },
        {
          "output_type": "display_data",
          "data": {
            "image/png": "[encoded data removed]",
            "text/plain": [
              "<Figure size 864x864 with 1 Axes>"
            ]
          },
          "metadata": {
            "tags": [],
            "needs_background": "light"
          }
        }
      ]
    }
  ]
}